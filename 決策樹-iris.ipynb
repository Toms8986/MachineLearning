from sklearn import tree
from sklearn.datasets import load_iris
from sklearn.model_selection import train_test_split

# 讀入鳶尾花資料
iris = load_iris()
iris_data = iris.data
iris_label = iris.target

# 切分訓練與測試資料
train_data, test_data, train_label, test_label = train_test_split(iris_data, iris_label, test_size = 0.3)

# 建立分類器
clf = tree.DecisionTreeClassifier()
iris_clf = clf.fit(train_data, train_label)

print("訓練資料正確率:",clf.score(train_data,train_label)) # 訓練資料正確率
print("測試資料正確率:",clf.score(test_data, test_label)) # 測試資料正確率

predict=clf.predict(test_data) # 預測
print("標準答案:",test_label) # 標準答案
print("預測答案:",predict) # 預測答案
